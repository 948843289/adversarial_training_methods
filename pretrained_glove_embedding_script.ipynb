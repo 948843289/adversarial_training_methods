{
 "cells": [
  {
   "cell_type": "code",
   "execution_count": 3,
   "metadata": {
    "collapsed": true
   },
   "outputs": [],
   "source": [
    "import numpy as np"
   ]
  },
  {
   "cell_type": "code",
   "execution_count": 4,
   "metadata": {},
   "outputs": [],
   "source": [
    "#costruisco dizionario parola:word_embedding\n",
    "#punctuations = {',': [1, 0, 0, 0 ,0 ,0], '.': [0, 1, 0, 0 ,0 ,0], '?': [0, 0, 1, 0 ,0 ,0],\n",
    "#                '!': [0, 0, 0, 1 ,0 ,0], ':': [0, 0, 0, 0 ,1 ,0], ';': [0, 0, 0, 0 ,0 ,1]}\n",
    "word_embedding = dict()\n",
    "dictionary = dict()\n",
    "vectors = open(\"new_dataset/GloVe-1.2/vectors.txt\", \"r\")\n",
    "for i, line in enumerate(vectors):\n",
    "    sline = line.split(' ')\n",
    "    try:\n",
    "        word = sline[0]\n",
    "        word_embedding[word] = np.asarray(sline[1:], dtype='float32')\n",
    "        dictionary[word] = i+1\n",
    "    except:\n",
    "        print(\"error at index {}\".format(i))\n",
    "#embedding_len = len(word_embedding[list(word_embedding.keys())[0]])\n",
    "#for punct in punctuations:\n",
    "#    word_embedding[punct] = np.asarray(([0]*embedding_len), dtype='float32')\n",
    "#    dictionary[punct] = len(dictionary) + 1"
   ]
  },
  {
   "cell_type": "code",
   "execution_count": 5,
   "metadata": {
    "collapsed": true,
    "scrolled": true
   },
   "outputs": [],
   "source": [
    "#costruisco la matrice di embedding\n",
    "embedding = np.zeros( shape=(len(dictionary.keys())+1, len(list(word_embedding.values())[0])))\n",
    "for word in dictionary.keys():\n",
    "    idx = dictionary[word]\n",
    "    embedding[idx] = word_embedding[word]"
   ]
  },
  {
   "cell_type": "code",
   "execution_count": 6,
   "metadata": {
    "collapsed": true
   },
   "outputs": [],
   "source": [
    "np.save(\"../dataset/imdb/nltk_embedding_matrix.npy\", embedding)\n",
    "np.save(\"../dataset/imdb/nltk_dictionary.npy\", dictionary)\n",
    "np.save(\"../dataset/imdb/nltk_word_embedding.npy\", word_embedding)"
   ]
  },
  {
   "cell_type": "code",
   "execution_count": null,
   "metadata": {
    "collapsed": true
   },
   "outputs": [],
   "source": []
  }
 ],
 "metadata": {
  "kernelspec": {
   "display_name": "Python [conda env:tensorflow]",
   "language": "python",
   "name": "conda-env-tensorflow-py"
  },
  "language_info": {
   "codemirror_mode": {
    "name": "ipython",
    "version": 3
   },
   "file_extension": ".py",
   "mimetype": "text/x-python",
   "name": "python",
   "nbconvert_exporter": "python",
   "pygments_lexer": "ipython3",
   "version": "3.5.4"
  }
 },
 "nbformat": 4,
 "nbformat_minor": 2
}
