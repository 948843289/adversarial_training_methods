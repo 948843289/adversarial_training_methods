{
 "cells": [
  {
   "cell_type": "code",
   "execution_count": 3,
   "metadata": {
    "collapsed": true
   },
   "outputs": [],
   "source": [
    "# PRENDO TUTTE LE RECENSIONI (POS NEG E UNSUP) E LE UNISCO IN UN UNICO FILE DI TESTO CON UNA RECENSIONE PER RIGA\n",
    "# EFFETTUO LA TOKENIZZAZIONE DEL TESTO\n",
    "# RISCRIVO TUTTO IL CORPUS TOKENIZZATO COME UNA SEQUENZA DI PAROLE PREPROCESSATE SEPARATE DA UNO SPAZIO"
   ]
  },
  {
   "cell_type": "code",
   "execution_count": 4,
   "metadata": {},
   "outputs": [],
   "source": [
    "from os import listdir\n",
    "from os.path import isfile, join\n",
    "#from tensorflow import keras\n",
    "from nltk import RegexpTokenizer\n",
    "tokenizer = RegexpTokenizer(r'\\w+')"
   ]
  },
  {
   "cell_type": "code",
   "execution_count": 5,
   "metadata": {
    "collapsed": true
   },
   "outputs": [],
   "source": [
    "new_path = \"/new_dataset/\"\n",
    "old_path = \"/home/civitelli/ML/dataset/imdb/train/\""
   ]
  },
  {
   "cell_type": "code",
   "execution_count": 6,
   "metadata": {
    "collapsed": true
   },
   "outputs": [],
   "source": [
    "merged = open(\"new_dataset/merged.txt\", \"w\")"
   ]
  },
  {
   "cell_type": "code",
   "execution_count": 7,
   "metadata": {
    "collapsed": true
   },
   "outputs": [],
   "source": [
    "current_directory = old_path + 'pos'\n",
    "files = [f for f in listdir(current_directory) if ( isfile(join(current_directory, f)) and (f[0] != '.') ) ]\n",
    "for f in files:\n",
    "    t = open(current_directory+'/'+f, 'r')\n",
    "    for line in t:\n",
    "        if line:\n",
    "            line = line.replace('<br /><br />', ' ')\n",
    "            merged.write(line+'\\n')\n",
    "    t.close()\n",
    "\n",
    "current_directory = old_path + 'neg'\n",
    "files = [f for f in listdir(current_directory) if ( isfile(join(current_directory, f)) and (f[0] != '.') ) ]\n",
    "for f in files:\n",
    "    t = open(current_directory+'/'+f, 'r')\n",
    "    for line in t:\n",
    "        if line:\n",
    "            line = line.replace('<br /><br />', ' ')\n",
    "            merged.write(line+'\\n')\n",
    "    t.close()\n",
    "\n",
    "current_directory = old_path + 'unsup'\n",
    "files = [f for f in listdir(current_directory) if ( isfile(join(current_directory, f)) and (f[0] != '.') ) ]\n",
    "for f in files:\n",
    "    t = open(current_directory+'/'+f, 'r')\n",
    "    for line in t:\n",
    "        if line:\n",
    "            line = line.replace('<br /><br />', ' ')\n",
    "            merged.write(line+'\\n')\n",
    "    t.close()\n",
    "\n",
    "merged.close()"
   ]
  },
  {
   "cell_type": "code",
   "execution_count": 8,
   "metadata": {
    "collapsed": true
   },
   "outputs": [],
   "source": [
    "corpus = open(\"new_dataset/merged.txt\", \"r\")\n",
    "new_corpus = open(\"new_dataset/GloVe-1.2/new_merged\", \"w\")"
   ]
  },
  {
   "cell_type": "code",
   "execution_count": 9,
   "metadata": {
    "collapsed": true
   },
   "outputs": [],
   "source": [
    "lines = corpus.readlines()\n",
    "text = ''\n",
    "# metto tutto in una riga\n",
    "for line in lines:\n",
    "    text = text + line\n",
    "corpus.close()\n",
    "\n",
    "# tokenizzo, e mi restituisce un vettore di parole\n",
    "# words = keras.preprocessing.text.text_to_word_sequence(text) #tab and newline\n",
    "words = tokenizer.tokenize(text.lower())\n",
    "\n",
    "\n",
    "# riscrivo questo vettore in un file di testo in cui le parole sono separate da spazi vuoti\n",
    "for w in words:\n",
    "    new_corpus.seek(0, 2)\n",
    "    new_corpus.write(w + ' ')\n",
    "new_corpus.close()"
   ]
  },
  {
   "cell_type": "code",
   "execution_count": null,
   "metadata": {
    "collapsed": true
   },
   "outputs": [],
   "source": []
  }
 ],
 "metadata": {
  "kernelspec": {
   "display_name": "Python [conda root]",
   "language": "python",
   "name": "conda-root-py"
  },
  "language_info": {
   "codemirror_mode": {
    "name": "ipython",
    "version": 3
   },
   "file_extension": ".py",
   "mimetype": "text/x-python",
   "name": "python",
   "nbconvert_exporter": "python",
   "pygments_lexer": "ipython3",
   "version": "3.6.3"
  }
 },
 "nbformat": 4,
 "nbformat_minor": 2
}
